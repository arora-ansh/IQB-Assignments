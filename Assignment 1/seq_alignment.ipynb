{
 "cells": [
  {
   "cell_type": "markdown",
   "metadata": {},
   "source": [
    "# BIO213 - Introduction to Quantitative Biology \n",
    "### Assignment 1\n",
    "\n",
    "**Name:** Ansh Arora\n",
    "**Roll No:** 2019022"
   ]
  },
  {
   "cell_type": "markdown",
   "metadata": {},
   "source": [
    "**QUESTION 1**\n",
    "\n",
    "Find the best global alignment between DNA sequences ATCAGAGTA and TTCAGTA using scoring scheme - \n",
    "- Match = +2\n",
    "- Mismatch = -1\n",
    "- Gap = -1"
   ]
  },
  {
   "cell_type": "code",
   "execution_count": 1,
   "metadata": {},
   "outputs": [],
   "source": [
    "def matprint(dp):  \n",
    "    for row in dp:\n",
    "        for x in row:\n",
    "            if x<0:\n",
    "                print(x, end=\" \")\n",
    "            else:\n",
    "                print(\" \"+str(x), end = \" \")\n",
    "        print()"
   ]
  },
  {
   "cell_type": "markdown",
   "metadata": {},
   "source": [
    "**ANSWER 1**\n",
    "\n",
    "We will first be initiating the sequences and their lengths correctly."
   ]
  },
  {
   "cell_type": "code",
   "execution_count": 2,
   "metadata": {},
   "outputs": [
    {
     "name": "stdout",
     "output_type": "stream",
     "text": [
      "s1: AAAG\n",
      "s1 length: 4\n",
      "s2: ACG\n",
      "s2 length: 3\n"
     ]
    }
   ],
   "source": [
    "s1 = \"AAAG\"\n",
    "s2 = \"ACG\"\n",
    "\n",
    "l1 = len(s1)\n",
    "l2 = len(s2)\n",
    "\n",
    "print(\"s1: \"+s1+\"\\ns1 length: \"+str(l1))\n",
    "print(\"s2: \"+s2+\"\\ns2 length: \"+str(l2))"
   ]
  },
  {
   "cell_type": "code",
   "execution_count": 3,
   "metadata": {},
   "outputs": [],
   "source": [
    "match = 1\n",
    "mismatch = -1\n",
    "gap = -2"
   ]
  },
  {
   "cell_type": "markdown",
   "metadata": {},
   "source": [
    "Now that we have assigned our scoring values to variables, we will now create our DP matrix and initialize it with values for the 0th row and 0th column."
   ]
  },
  {
   "cell_type": "code",
   "execution_count": 4,
   "metadata": {},
   "outputs": [],
   "source": [
    "dp = [[0 for i in range(l2+1)] for j in range(l1+1)]\n",
    "#matprint(dp)"
   ]
  },
  {
   "cell_type": "code",
   "execution_count": 5,
   "metadata": {},
   "outputs": [],
   "source": [
    "for i in range(1,l2+1):\n",
    "    dp[0][i] = dp[0][i-1]+gap\n",
    "\n",
    "for i in range (1,l1+1):\n",
    "    dp[i][0] = dp[i-1][0]+gap\n",
    "\n",
    "#matprint(dp)"
   ]
  },
  {
   "cell_type": "markdown",
   "metadata": {},
   "source": [
    "**ANSWER A)**\n",
    "Now we will fill up our matrix using Dynamic Programming with the rules taught to us in the class."
   ]
  },
  {
   "cell_type": "code",
   "execution_count": 6,
   "metadata": {},
   "outputs": [
    {
     "name": "stdout",
     "output_type": "stream",
     "text": [
      "The DP Matrix will be- \n",
      " 0 -2 -4 -6 \n",
      "-2  1 -1 -3 \n",
      "-4 -1  0 -2 \n",
      "-6 -3 -2 -1 \n",
      "-8 -5 -4 -1 \n"
     ]
    }
   ],
   "source": [
    "for i in range(1,l1+1):\n",
    "    for j in range(1,l2+1):\n",
    "        if(s1[i-1]==s2[j-1]):\n",
    "            #Match case\n",
    "            op1 = match + dp[i-1][j-1]\n",
    "            op2 = gap + dp[i-1][j]\n",
    "            op3 = gap + dp[i][j-1]\n",
    "            dp[i][j] = max(op1,op2,op3)\n",
    "        else:\n",
    "            op1 = mismatch + dp[i-1][j-1]\n",
    "            op2 = gap + dp[i-1][j]\n",
    "            op3 = gap + dp[i][j-1]\n",
    "            dp[i][j] = max(op1,op2,op3)\n",
    "\n",
    "print(\"The DP Matrix will be- \")\n",
    "matprint(dp)"
   ]
  },
  {
   "cell_type": "markdown",
   "metadata": {},
   "source": [
    "Now we have to recreate the alignment from the DP matrix. This can be done using backtracking on the matrix, starting from the bottom right cell and progression optimally till we reach the top right cell.\n",
    "\n",
    "**ANSWER B)** Yes there is a possibility of that there are more than one ways of aligining the given sequences, since at places where the score might be coming from a match from the cell located diagonally to it, it can also come from a gap resulting from a horizontal or vertical cell if the gap penalty added back gives that value. Similarly, we can do the same for a mismatch and gaps. We will find all these sequences in the following backtracking code, which uses recursion. All cases will thus be considered here.\n",
    "\n",
    "**ANSWER C)**"
   ]
  },
  {
   "cell_type": "code",
   "execution_count": 7,
   "metadata": {},
   "outputs": [
    {
     "name": "stdout",
     "output_type": "stream",
     "text": [
      "Optimal alingments - \n",
      "\n",
      "Score: -1\n",
      "AAAG\n",
      " | |\n",
      "-ACG\n",
      "\n",
      "Score: -1\n",
      "AAAG\n",
      "|  |\n",
      "A-CG\n",
      "\n",
      "Score: -1\n",
      "AAAG\n",
      "|  |\n",
      "AC-G\n",
      "\n"
     ]
    }
   ],
   "source": [
    "def backtrack(dp,row,col,ans1,ans2):\n",
    "    #print(str(row)+\" \"+str(col))\n",
    "    if row==0 and col==0:\n",
    "        #print(str(row)+\" \"+str(col))\n",
    "        print(\"Score: \" +str(dp[l1][l2]))\n",
    "        print(ans1)\n",
    "        for i in range(len(ans1)):\n",
    "            if ans1[i]==ans2[i]:\n",
    "                print(\"|\",end=\"\")\n",
    "            else:\n",
    "                print(\" \",end=\"\")\n",
    "        print()\n",
    "        print(ans2)\n",
    "        print()\n",
    "        return\n",
    "    if(s1[row-1]!=s2[col-1]):\n",
    "        if dp[row][col] == dp[row-1][col-1]+mismatch:\n",
    "            backtrack(dp,row-1,col-1,s1[row-1]+ans1,s2[col-1]+ans2)\n",
    "        if dp[row][col] == dp[row-1][col]+gap:\n",
    "            backtrack(dp,row-1,col,s1[row-1]+ans1,\"-\"+ans2)\n",
    "        if dp[row][col] == dp[row][col-1]+gap:\n",
    "            backtrack(dp,row,col-1,\"-\"+ans1,s2[col-1]+ans2)\n",
    "        \n",
    "    else:\n",
    "        backtrack(dp,row-1,col-1,s1[row-1]+ans1,s2[col-1]+ans2)\n",
    "        if dp[row][col] == dp[row-1][col]+gap:\n",
    "            backtrack(dp,row-1,col,s1[row-1]+ans1,\"-\"+ans2)\n",
    "        if dp[row][col] == dp[row][col-1]+gap:\n",
    "            backtrack(dp,row,col-1,\"-\"+ans1,s2[col-1]+ans2)\n",
    "            \n",
    "print(\"Optimal alingments - \")\n",
    "print()\n",
    "backtrack(dp,l1,l2,\"\",\"\")"
   ]
  },
  {
   "cell_type": "markdown",
   "metadata": {},
   "source": [
    "**QUESTION 2**\n",
    "\n",
    "Using the above sequences and scoring scheme, compute the most optimal local alignment."
   ]
  },
  {
   "cell_type": "markdown",
   "metadata": {},
   "source": [
    "**ANSWER 2**\n",
    "\n",
    "We will first formulate a DP matrix for local alignment, where no values smaller than 0 can appear."
   ]
  },
  {
   "cell_type": "code",
   "execution_count": 9,
   "metadata": {},
   "outputs": [],
   "source": [
    "dp2 = [[0 for i in range(l2+1)] for j in range(l1+1)]\n",
    "#matprint(dp2)"
   ]
  },
  {
   "cell_type": "markdown",
   "metadata": {},
   "source": [
    "**ANSWER A)** We will now fill the DP Matrix up with new for loops keeping the 0 property in mind"
   ]
  },
  {
   "cell_type": "code",
   "execution_count": 10,
   "metadata": {},
   "outputs": [
    {
     "name": "stdout",
     "output_type": "stream",
     "text": [
      "The DP Matrix will be- \n",
      " 0  0  0  0  0  0  0  0 \n",
      " 0  0  0  0  2  1  0  2 \n",
      " 0  2  2  1  1  1  3  2 \n",
      " 0  1  1  4  3  2  2  2 \n",
      " 0  0  0  3  6  5  4  4 \n",
      " 0  0  0  2  5  8  7  6 \n",
      " 0  0  0  1  4  7  7  9 \n",
      " 0  0  0  0  3  6  6  8 \n",
      " 0  2  2  1  2  5  8  7 \n",
      " 0  1  1  1  3  4  7  10 \n"
     ]
    }
   ],
   "source": [
    "for i in range(1,l1+1):\n",
    "    for j in range(1,l2+1):\n",
    "        if(s1[i-1]==s2[j-1]):\n",
    "            #Match case\n",
    "            op1 = match + dp2[i-1][j-1]\n",
    "            op2 = gap + dp2[i-1][j]\n",
    "            op3 = gap + dp2[i][j-1]\n",
    "            dp2[i][j] = max(op1,op2,op3,0)\n",
    "        else:\n",
    "            op1 = mismatch + dp2[i-1][j-1]\n",
    "            op2 = gap + dp2[i-1][j]\n",
    "            op3 = gap + dp2[i][j-1]\n",
    "            dp2[i][j] = max(op1,op2,op3,0)\n",
    "\n",
    "print(\"The DP Matrix will be- \")\n",
    "matprint(dp2)"
   ]
  },
  {
   "cell_type": "markdown",
   "metadata": {},
   "source": [
    "We now need to find the max element locations in the matrix to start backtracking and store them in maxloc array for local alignment. For this we will run the following loop -"
   ]
  },
  {
   "cell_type": "code",
   "execution_count": 11,
   "metadata": {},
   "outputs": [],
   "source": [
    "maxloc = []\n",
    "maxval = 0\n",
    "\n",
    "for i in range(l1+1):\n",
    "    for j in range(l2+1):\n",
    "        if dp2[i][j]==maxval:\n",
    "            maxloc.append((i,j))\n",
    "        elif dp2[i][j]>maxval:\n",
    "            maxloc.clear()\n",
    "            maxloc.append((i,j))\n",
    "            maxval = dp2[i][j]\n",
    "\n",
    "#print(maxloc)\n",
    "#print(maxval)"
   ]
  },
  {
   "cell_type": "markdown",
   "metadata": {},
   "source": [
    "**ANSWER B)** Now we will run backtracking from the achieved maxrow and maxcol values until we hit a value of 0 in the DP Table, thus achieving our optimal local alignment."
   ]
  },
  {
   "cell_type": "code",
   "execution_count": 12,
   "metadata": {},
   "outputs": [
    {
     "name": "stdout",
     "output_type": "stream",
     "text": [
      "Optimal alingments - \n",
      "\n",
      "Score: 10\n",
      "TCAGAGTA\n",
      "||  ||||\n",
      "TC--AGTA\n",
      "\n",
      "Score: 10\n",
      "TCAGAGTA\n",
      "|||  |||\n",
      "TCA--GTA\n",
      "\n",
      "Score: 10\n",
      "TCAGAGTA\n",
      "||||  ||\n",
      "TCAG--TA\n",
      "\n"
     ]
    }
   ],
   "source": [
    "def backtrack(dp,row,col,ans1,ans2):\n",
    "    #print(str(row)+\" \"+str(col)+\" \"+str(dp[row][col]))\n",
    "    if dp[row][col]==0:\n",
    "        #print(str(row)+\" \"+str(col))\n",
    "        print(\"Score: \" +str(maxval))\n",
    "        print(ans1)\n",
    "        for i in range(len(ans1)):\n",
    "            if ans1[i]==ans2[i]:\n",
    "                print(\"|\",end=\"\")\n",
    "            else:\n",
    "                print(\" \",end=\"\")\n",
    "        print()\n",
    "        print(ans2)\n",
    "        print()\n",
    "        return\n",
    "    if(s1[row-1]!=s2[col-1]):\n",
    "        if dp[row][col] == dp[row-1][col-1]+mismatch:\n",
    "            backtrack(dp,row-1,col-1,s1[row-1]+ans1,s2[col-1]+ans2)\n",
    "        if dp[row][col] == dp[row-1][col]+gap:\n",
    "            backtrack(dp,row-1,col,s1[row-1]+ans1,\"-\"+ans2)\n",
    "        if dp[row][col] == dp[row][col-1]+gap:\n",
    "            backtrack(dp,row,col-1,\"-\"+ans1,s2[col-1]+ans2)\n",
    "        \n",
    "    else:\n",
    "        backtrack(dp,row-1,col-1,s1[row-1]+ans1,s2[col-1]+ans2)\n",
    "        if dp[row][col] == dp[row-1][col]+gap:\n",
    "            backtrack(dp,row-1,col,s1[row-1]+ans1,\"-\"+ans2)\n",
    "        if dp[row][col] == dp[row][col-1]+gap:\n",
    "            backtrack(dp,row,col-1,\"-\"+ans1,s2[col-1]+ans2)\n",
    "            \n",
    "print(\"Optimal alingments - \")\n",
    "print()\n",
    "for i in maxloc:\n",
    "    backtrack(dp2,i[0],i[1],\"\",\"\")"
   ]
  },
  {
   "cell_type": "markdown",
   "metadata": {},
   "source": [
    "**QUESTION 3**\n",
    "\n",
    "Changes that were required in the program in order to perform local rather than global pairwise sequence alignment."
   ]
  },
  {
   "cell_type": "markdown",
   "metadata": {},
   "source": [
    "**ANSWER 3**\n",
    "\n",
    "To perform local pairwise sequence alignment, the following changes were made to the global alignment code - \n",
    "1. After initiating a DP matrix for local alignment, the first row and first column were left as 0, while in the case of global they were changed to accomodate for gap penalties. \n",
    "2. While the three option cases we take for filling each cell remained the same for both, in local the max value to be filled in the cell was taken to be max(0,op1,op2,op3) rather than just max(op1,op2,op3) to accomodate for the fact that the minimum value that a cell in the local alignment dp matrix can take is 0. \n",
    "3. After filling of the matrix, in local alignment we had to find the locations of max score and make a list, whereas in global alignment we simply started from the bottom right corner cell. Thus the backtrack initiation points had to be calculated in case of local alignment.\n",
    "4. While backtracking, in case of local alignment we stop when we reach a 0, thus identifying a local high alignment case. This is different from the global alignment case where we stop when we reach the top left cell of the matrix."
   ]
  },
  {
   "cell_type": "markdown",
   "metadata": {},
   "source": [
    "**QUESTION 4**\n",
    "\n",
    "Will changing the scoring scheme to Match = +2, Mismatch = -1, Gap = -2 modify the results obtained in the above questions? If yes, comment on the same."
   ]
  },
  {
   "cell_type": "markdown",
   "metadata": {},
   "source": [
    "**ANSWER 4**\n",
    "\n",
    "Yes, on changing the scoring scheme to the new one, results including scores and alignments might change to accomodate for the increased gap penalties. We will show this now by applying it on the above sequences - "
   ]
  },
  {
   "cell_type": "code",
   "execution_count": 13,
   "metadata": {},
   "outputs": [],
   "source": [
    "match = 2\n",
    "mismatch = -1\n",
    "gap = -2"
   ]
  },
  {
   "cell_type": "markdown",
   "metadata": {},
   "source": [
    "Global alignment - "
   ]
  },
  {
   "cell_type": "code",
   "execution_count": 14,
   "metadata": {},
   "outputs": [
    {
     "name": "stdout",
     "output_type": "stream",
     "text": [
      "The DP Matrix will be- \n",
      " 0 -2 -4 -6 -8 -10 -12 -14 \n",
      "-2 -1 -3 -5 -4 -6 -8 -10 \n",
      "-4  0  1 -1 -3 -5 -4 -6 \n",
      "-6 -2 -1  3  1 -1 -3 -5 \n",
      "-8 -4 -3  1  5  3  1 -1 \n",
      "-10 -6 -5 -1  3  7  5  3 \n",
      "-12 -8 -7 -3  1  5  6  7 \n",
      "-14 -10 -9 -5 -1  3  4  5 \n",
      "-16 -12 -8 -7 -3  1  5  3 \n",
      "-18 -14 -10 -9 -5 -1  3  7 \n",
      "\n",
      "Optimal alingments - \n",
      "\n",
      "Score: 7\n",
      "ATCAGAGTA\n",
      " ||  ||||\n",
      "TTC--AGTA\n",
      "\n",
      "Score: 7\n",
      "ATCAGAGTA\n",
      " |||  |||\n",
      "TTCA--GTA\n",
      "\n",
      "Score: 7\n",
      "ATCAGAGTA\n",
      " ||||  ||\n",
      "TTCAG--TA\n",
      "\n"
     ]
    }
   ],
   "source": [
    "dp = [[0 for i in range(l2+1)] for j in range(l1+1)]\n",
    "\n",
    "for i in range(1,l2+1):\n",
    "    dp[0][i] = dp[0][i-1]+gap\n",
    "\n",
    "for i in range (1,l1+1):\n",
    "    dp[i][0] = dp[i-1][0]+gap\n",
    "\n",
    "for i in range(1,l1+1):\n",
    "    for j in range(1,l2+1):\n",
    "        if(s1[i-1]==s2[j-1]):\n",
    "            #Match case\n",
    "            op1 = match + dp[i-1][j-1]\n",
    "            op2 = gap + dp[i-1][j]\n",
    "            op3 = gap + dp[i][j-1]\n",
    "            dp[i][j] = max(op1,op2,op3)\n",
    "        else:\n",
    "            op1 = mismatch + dp[i-1][j-1]\n",
    "            op2 = gap + dp[i-1][j]\n",
    "            op3 = gap + dp[i][j-1]\n",
    "            dp[i][j] = max(op1,op2,op3)\n",
    "\n",
    "print(\"The DP Matrix will be- \")\n",
    "matprint(dp)\n",
    "print()\n",
    "\n",
    "def backtrack2(dp,row,col,ans1,ans2):\n",
    "    #print(str(row)+\" \"+str(col))\n",
    "    if row==0 and col==0:\n",
    "        #print(str(row)+\" \"+str(col))\n",
    "        print(\"Score: \" +str(dp[l1][l2]))\n",
    "        print(ans1)\n",
    "        for i in range(len(ans1)):\n",
    "            if ans1[i]==ans2[i]:\n",
    "                print(\"|\",end=\"\")\n",
    "            else:\n",
    "                print(\" \",end=\"\")\n",
    "        print()\n",
    "        print(ans2)\n",
    "        print()\n",
    "        return\n",
    "    if(s1[row-1]!=s2[col-1]):\n",
    "        if dp[row][col] == dp[row-1][col-1]+mismatch:\n",
    "            backtrack2(dp,row-1,col-1,s1[row-1]+ans1,s2[col-1]+ans2)\n",
    "        if dp[row][col] == dp[row-1][col]+gap:\n",
    "            backtrack2(dp,row-1,col,s1[row-1]+ans1,\"-\"+ans2)\n",
    "        if dp[row][col] == dp[row][col-1]+gap:\n",
    "            backtrack2(dp,row,col-1,\"-\"+ans1,s2[col-1]+ans2)\n",
    "        \n",
    "    else:\n",
    "        backtrack2(dp,row-1,col-1,s1[row-1]+ans1,s2[col-1]+ans2)\n",
    "        if dp[row][col] == dp[row-1][col]+gap:\n",
    "            backtrack2(dp,row-1,col,s1[row-1]+ans1,\"-\"+ans2)\n",
    "        if dp[row][col] == dp[row][col-1]+gap:\n",
    "            backtrack2(dp,row,col-1,\"-\"+ans1,s2[col-1]+ans2)\n",
    "            \n",
    "print(\"Optimal alingments - \")\n",
    "print()\n",
    "backtrack2(dp,l1,l2,\"\",\"\")"
   ]
  },
  {
   "cell_type": "markdown",
   "metadata": {},
   "source": [
    "Local Alignment - "
   ]
  },
  {
   "cell_type": "code",
   "execution_count": 15,
   "metadata": {},
   "outputs": [
    {
     "name": "stdout",
     "output_type": "stream",
     "text": [
      "The DP Matrix will be- \n",
      " 0  0  0  0  0  0  0  0 \n",
      " 0  0  0  0  2  0  0  2 \n",
      " 0  2  2  0  0  1  2  0 \n",
      " 0  0  1  4  2  0  0  1 \n",
      " 0  0  0  2  6  4  2  2 \n",
      " 0  0  0  0  4  8  6  4 \n",
      " 0  0  0  0  2  6  7  8 \n",
      " 0  0  0  0  0  4  5  6 \n",
      " 0  2  2  0  0  2  6  4 \n",
      " 0  0  1  1  2  0  4  8 \n",
      "\n",
      "Optimal alingments - \n",
      "\n",
      "Score: 8\n",
      "TCAG\n",
      "||||\n",
      "TCAG\n",
      "\n",
      "Score: 8\n",
      "TCAG-A\n",
      "|||| |\n",
      "TCAGTA\n",
      "\n",
      "Score: 8\n",
      "AGTA\n",
      "||||\n",
      "AGTA\n",
      "\n",
      "Score: 8\n",
      "TCAGAGTA\n",
      "|||  |||\n",
      "TCA--GTA\n",
      "\n",
      "Score: 8\n",
      "TCAGAGTA\n",
      "||||  ||\n",
      "TCAG--TA\n",
      "\n"
     ]
    }
   ],
   "source": [
    "dp2 = [[0 for i in range(l2+1)] for j in range(l1+1)]\n",
    "for i in range(1,l1+1):\n",
    "    for j in range(1,l2+1):\n",
    "        if(s1[i-1]==s2[j-1]):\n",
    "            #Match case\n",
    "            op1 = match + dp2[i-1][j-1]\n",
    "            op2 = gap + dp2[i-1][j]\n",
    "            op3 = gap + dp2[i][j-1]\n",
    "            dp2[i][j] = max(op1,op2,op3,0)\n",
    "        else:\n",
    "            op1 = mismatch + dp2[i-1][j-1]\n",
    "            op2 = gap + dp2[i-1][j]\n",
    "            op3 = gap + dp2[i][j-1]\n",
    "            dp2[i][j] = max(op1,op2,op3,0)\n",
    "\n",
    "print(\"The DP Matrix will be- \")\n",
    "matprint(dp2)\n",
    "print()\n",
    "\n",
    "maxloc = []\n",
    "maxval = 0\n",
    "\n",
    "for i in range(l1+1):\n",
    "    for j in range(l2+1):\n",
    "        if dp2[i][j]==maxval:\n",
    "            maxloc.append((i,j))\n",
    "        elif dp2[i][j]>maxval:\n",
    "            maxloc.clear()\n",
    "            maxloc.append((i,j))\n",
    "            maxval = dp2[i][j]\n",
    "\n",
    "#print(maxloc)\n",
    "def backtrack3(dp,row,col,ans1,ans2):\n",
    "    #print(str(row)+\" \"+str(col)+\" \"+str(dp[row][col]))\n",
    "    if dp[row][col]==0:\n",
    "        #print(str(row)+\" \"+str(col))\n",
    "        print(\"Score: \" +str(maxval))\n",
    "        print(ans1)\n",
    "        for i in range(len(ans1)):\n",
    "            if ans1[i]==ans2[i]:\n",
    "                print(\"|\",end=\"\")\n",
    "            else:\n",
    "                print(\" \",end=\"\")\n",
    "        print()\n",
    "        print(ans2)\n",
    "        print()\n",
    "        return\n",
    "    if(s1[row-1]!=s2[col-1]):\n",
    "        if dp[row][col] == dp[row-1][col-1]+mismatch:\n",
    "            backtrack3(dp,row-1,col-1,s1[row-1]+ans1,s2[col-1]+ans2)\n",
    "        if dp[row][col] == dp[row-1][col]+gap:\n",
    "            backtrack3(dp,row-1,col,s1[row-1]+ans1,\"-\"+ans2)\n",
    "        if dp[row][col] == dp[row][col-1]+gap:\n",
    "            backtrack3(dp,row,col-1,\"-\"+ans1,s2[col-1]+ans2)\n",
    "        \n",
    "    else:\n",
    "        backtrack3(dp,row-1,col-1,s1[row-1]+ans1,s2[col-1]+ans2)\n",
    "        if dp[row][col] == dp[row-1][col]+gap:\n",
    "            backtrack3(dp,row-1,col,s1[row-1]+ans1,\"-\"+ans2)\n",
    "        if dp[row][col] == dp[row][col-1]+gap:\n",
    "            backtrack3(dp,row,col-1,\"-\"+ans1,s2[col-1]+ans2)\n",
    "            \n",
    "print(\"Optimal alingments - \")\n",
    "print()\n",
    "for i in maxloc:\n",
    "    backtrack3(dp2,i[0],i[1],\"\",\"\")"
   ]
  }
 ],
 "metadata": {
  "kernelspec": {
   "display_name": "Python 3",
   "language": "python",
   "name": "python3"
  },
  "language_info": {
   "codemirror_mode": {
    "name": "ipython",
    "version": 3
   },
   "file_extension": ".py",
   "mimetype": "text/x-python",
   "name": "python",
   "nbconvert_exporter": "python",
   "pygments_lexer": "ipython3",
   "version": "3.8.5"
  }
 },
 "nbformat": 4,
 "nbformat_minor": 4
}
