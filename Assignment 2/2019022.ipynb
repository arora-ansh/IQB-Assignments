{
 "metadata": {
  "language_info": {
   "codemirror_mode": {
    "name": "ipython",
    "version": 3
   },
   "file_extension": ".py",
   "mimetype": "text/x-python",
   "name": "python",
   "nbconvert_exporter": "python",
   "pygments_lexer": "ipython3",
   "version": "3.7.4-final"
  },
  "orig_nbformat": 2,
  "kernelspec": {
   "name": "python374jvsc74a57bd0e534e48711db4d1e1c48977d0d14ff85b1f16d41bcc4fdfd88268a329b3c9d66",
   "display_name": "Python 3.7.4 64-bit"
  },
  "metadata": {
   "interpreter": {
    "hash": "e534e48711db4d1e1c48977d0d14ff85b1f16d41bcc4fdfd88268a329b3c9d66"
   }
  }
 },
 "nbformat": 4,
 "nbformat_minor": 2,
 "cells": [
  {
   "source": [
    "# BIO213 - Introduction to Quantitative Biology\n",
    "### Assignment 2\n",
    "**Name:** Ansh Arora\n",
    "**Roll No:** 2019022"
   ],
   "cell_type": "markdown",
   "metadata": {}
  },
  {
   "source": [
    "**QUESTION 1**\n",
    "\n",
    "Write a program to implement Chou and Fasman method of secondary structure prediction for the following protein sequence:\n",
    "SGFRKMAFPSGKVEGCMVQVTCGTTTLNGLWLDDTVYCPRHVICTAEDMLNPNYEDLLIRKSNHSFLVQAGNVQLRVIGHSMQNCLLRLKVDTSNPKTPKYKFVRIQPGQTFSVLACYNGSPSGVYQCAMRPNHTIKGSFLNGSCGSVGF"
   ],
   "cell_type": "markdown",
   "metadata": {}
  },
  {
   "source": [
    "We will first store the values of the Chou Fasman Parameters of protein prediction in a 2-dimensional hashtable(dictionary) - "
   ],
   "cell_type": "markdown",
   "metadata": {}
  },
  {
   "cell_type": "code",
   "execution_count": 1,
   "metadata": {},
   "outputs": [
    {
     "output_type": "stream",
     "name": "stdout",
     "text": [
      "\nSorted by Pa\nE 1.53\nA 1.45\nL 1.34\nH 1.24\nM 1.2\nQ 1.17\nV 1.14\nW 1.14\nF 1.12\nK 1.07\nI 1.0\nD 0.98\nT 0.82\nS 0.79\nR 0.79\nC 0.77\nN 0.73\nY 0.61\nP 0.59\nG 0.53\n\nSorted by Pb\nM 1.67\nV 1.65\nI 1.6\nC 1.3\nY 1.29\nF 1.28\nQ 1.23\nL 1.22\nT 1.2\nW 1.19\nA 0.97\nR 0.9\nG 0.81\nD 0.8\nK 0.74\nS 0.72\nH 0.71\nN 0.65\nP 0.62\nE 0.26\n"
     ]
    }
   ],
   "source": [
    "keyList = ['A','R','N','D','C','E','Q','G','H','I','L','K','M','F','P','S','T','W','Y','V']\n",
    "parameters = {key: [] for key in keyList}\n",
    "parameters['A'].append(1.45) #Ala\n",
    "parameters['A'].append(0.97)\n",
    "parameters['R'].append(0.79) #Arg\n",
    "parameters['R'].append(0.90)\n",
    "parameters['N'].append(0.73) #Asn\n",
    "parameters['N'].append(0.65)\n",
    "parameters['D'].append(0.98) #Asp\n",
    "parameters['D'].append(0.80) \n",
    "parameters['C'].append(0.77) #Cys\n",
    "parameters['C'].append(1.30)\n",
    "parameters['E'].append(1.53) #Glu\n",
    "parameters['E'].append(0.26)\n",
    "parameters['Q'].append(1.17) #Gln\n",
    "parameters['Q'].append(1.23)\n",
    "parameters['G'].append(0.53) #Gly\n",
    "parameters['G'].append(0.81)\n",
    "parameters['H'].append(1.24) #His\n",
    "parameters['H'].append(0.71)\n",
    "parameters['I'].append(1.00) #Ile\n",
    "parameters['I'].append(1.60)\n",
    "parameters['L'].append(1.34) #Leu\n",
    "parameters['L'].append(1.22)  \n",
    "parameters['K'].append(1.07) #Lys\n",
    "parameters['K'].append(0.74)\n",
    "parameters['M'].append(1.20) #Met\n",
    "parameters['M'].append(1.67)\n",
    "parameters['F'].append(1.12) #Phe\n",
    "parameters['F'].append(1.28)\n",
    "parameters['P'].append(0.59) #Pro\n",
    "parameters['P'].append(0.62)\n",
    "parameters['S'].append(0.79) #Ser\n",
    "parameters['S'].append(0.72)\n",
    "parameters['T'].append(0.82) #Thr\n",
    "parameters['T'].append(1.20)\n",
    "parameters['W'].append(1.14) #Trp\n",
    "parameters['W'].append(1.19)\n",
    "parameters['Y'].append(0.61) #Tyr\n",
    "parameters['Y'].append(1.29)\n",
    "parameters['V'].append(1.14) #Val\n",
    "parameters['V'].append(1.65)\n",
    "# print(parameters)\n",
    "# The following lines of code print out the alpha, beta and t propensities in descending order\n",
    "sortedalpha = sorted(parameters.items(), key = lambda item: item[1][0])\n",
    "sortedalpha = sortedalpha[::-1]\n",
    "print(\"\\n\"+\"Sorted by Pa\")\n",
    "for i in sortedalpha:\n",
    "    print(i[0]+\" \"+str(i[1][0]))\n",
    "sortedbeta = sorted(parameters.items(), key = lambda item: item[1][1])\n",
    "sortedbeta = sortedbeta[::-1]\n",
    "print(\"\\n\"+\"Sorted by Pb\")\n",
    "for i in sortedbeta:\n",
    "    print(i[0]+\" \"+str(i[1][1]))"
   ]
  },
  {
   "source": [
    "We will now enter the protein sequence to be tested as a string and then test for alpha/beta cases taking a window of 6/5 and then seeing if any extensions exist beyond them."
   ],
   "cell_type": "markdown",
   "metadata": {}
  },
  {
   "cell_type": "code",
   "execution_count": 2,
   "metadata": {},
   "outputs": [],
   "source": [
    "pseq = \"SGFRKMAFPSGKVEGCMVQVTCGTTTLNGLWLDDTVYCPRHVICTAEDMLNPNYEDLLIRKSNHSFLVQAGNVQLRVIGHSMQNCLLRLKVDTSNPKTPKYKFVRIQPGQTFSVLACYNGSPSGVYQCAMRPNHTIKGSFLNGSCGSVGF\"\n",
    "len_pseq = len(pseq)"
   ]
  },
  {
   "source": [
    "Now we will initiate a loop to check where all alpha helical structures can exist in the sequence."
   ],
   "cell_type": "markdown",
   "metadata": {}
  },
  {
   "cell_type": "code",
   "execution_count": 3,
   "metadata": {
    "tags": []
   },
   "outputs": [],
   "source": [
    "i = 0\n",
    "alphaseq = [0] * len_pseq #will make these 1 if alpha can exist\n",
    "while(i+6<=len_pseq): #We run a loop on the protein sequence to identify windows of 6 proteins, and then perform operations on them\n",
    "    window = pseq[i:i+6]    #The string window is generated\n",
    "    score = 0   #Score stores the number of P[] >= 1 matches, and checks if it is at least 4 or not\n",
    "    for j in window:\n",
    "        if parameters[j][0] >= 1:\n",
    "            score += 1\n",
    "    # print(window,end=\" \")\n",
    "    # print(score)\n",
    "    # If the window does in fact have atleast 4 proteins that have a propensity >= 1, we check for extensions on the left and the right side of the window where the afformentioned property holds. We mark all the possible alpha positions on alphaseq as 1\n",
    "    if(score>=4):   \n",
    "        for j in range(i,i+6):\n",
    "            alphaseq[j] = 1\n",
    "        # print(\"\\t\"+\"Leftward Extensions-\")\n",
    "        ltextender = True\n",
    "        k = i+3   \n",
    "        while(k-4>=0 and ltextender):\n",
    "            subwindow = pseq[k-4:k]\n",
    "            subscore = 0\n",
    "            for j in subwindow:\n",
    "                subscore+=parameters[j][0]\n",
    "            # print(\"\\t\"+subwindow,end=\" \")\n",
    "            # print(subscore)\n",
    "            if(subscore>=4):    #We check until the score is >=4, if it is we add the extension to the alphaseq otherwise we end the loop\n",
    "                for j in range(k-4,k):\n",
    "                    alphaseq[j] = 1\n",
    "                k-=1\n",
    "            else:\n",
    "                ltextender = False\n",
    "        # print(\"\\t\"+\"Rightward Extensions-\")\n",
    "        # We repeat the same process on the right side of the window as well\n",
    "        rtextender = True\n",
    "        k = i+3    \n",
    "        while(k+4<len_pseq and rtextender):\n",
    "            subwindow = pseq[k:k+4]\n",
    "            subscore = 0\n",
    "            for j in subwindow:\n",
    "                subscore+=parameters[j][0]\n",
    "            # print(\"\\t\"+subwindow,end=\" \")\n",
    "            # print(subscore)\n",
    "            if(subscore>=4):\n",
    "                for j in range(k,k+4):\n",
    "                    alphaseq[j] = 1\n",
    "                k+=1\n",
    "            else:\n",
    "                rtextender = False\n",
    "        i+=1    #In both cases (whether the window can hold alpha sequence or not) we shift the window by 1 place, to check for the next window of 6\n",
    "    else:\n",
    "        i+=1"
   ]
  },
  {
   "source": [
    "The sequence can potentially have alpha helix structures at the following spots -"
   ],
   "cell_type": "markdown",
   "metadata": {}
  },
  {
   "cell_type": "code",
   "execution_count": 4,
   "metadata": {},
   "outputs": [
    {
     "output_type": "stream",
     "name": "stdout",
     "text": [
      "GFRKMAFPSGKVEGCMVQVTC LNGLWLDDT RHVICTAEDMLN YEDLLIRKSNHSFLVQAGNVQLRVIGHSMQNCLLRLKVDT PKYKFVRIQP QTFSVLACY VYQCAMRP IKGSFL "
     ]
    }
   ],
   "source": [
    "# print(alphaseq)\n",
    "# Here we simply print out the subsequences which can in fact be alpha sequences\n",
    "string = \"\"\n",
    "for i in range(len_pseq):\n",
    "    if alphaseq[i] == 1:\n",
    "        string += pseq[i]\n",
    "    else:\n",
    "        if string!=\"\":\n",
    "            print(string,end=\" \")\n",
    "        string = \"\""
   ]
  },
  {
   "source": [
    "Similarly, we will now initiate a loop to check where all beta sheet structures can exist in the sequence."
   ],
   "cell_type": "markdown",
   "metadata": {}
  },
  {
   "cell_type": "code",
   "execution_count": 5,
   "metadata": {
    "tags": []
   },
   "outputs": [],
   "source": [
    "# Here we carry out the exact same process as above with some minor changes\n",
    "i = 0\n",
    "betaseq = [0] * len_pseq #will make these 1 if beta can exist\n",
    "while(i+5<=len_pseq):   #In case of beta, we take windows of 5 rather than 6\n",
    "    window = pseq[i:i+5]\n",
    "    score = 0\n",
    "    for j in window:\n",
    "        if parameters[j][1] >= 1:\n",
    "            score += 1\n",
    "    # print(window,end=\" \")\n",
    "    # print(score)\n",
    "    if(score>=3):   #We check if 3/5 have P[]>=1 rather than 4/6\n",
    "        for j in range(i,i+5):\n",
    "            betaseq[j] = 1\n",
    "        # In case we do arrive at the afformentioned condition, we check for extensions on both left and right, taking subwindows of 4\n",
    "        # print(\"\\t\"+\"Leftward Extensions-\")\n",
    "        ltextender = True\n",
    "        k = i+3   \n",
    "        while(k-4>=0 and ltextender):\n",
    "            subwindow = pseq[k-4:k]\n",
    "            subscore = 0\n",
    "            for j in subwindow:\n",
    "                subscore+=parameters[j][1]\n",
    "            # print(\"\\t\"+subwindow,end=\" \")\n",
    "            # print(subscore)\n",
    "            if(subscore>=4):\n",
    "                for j in range(k-4,k):\n",
    "                    betaseq[j] = 1\n",
    "                k-=1\n",
    "            else:\n",
    "                ltextender = False\n",
    "        # print(\"\\t\"+\"Rightward Extensions-\")\n",
    "        rtextender = True\n",
    "        k = i+2    \n",
    "        while(k+4<len_pseq and rtextender):\n",
    "            subwindow = pseq[k:k+4]\n",
    "            subscore = 0\n",
    "            for j in subwindow:\n",
    "                subscore+=parameters[j][1]\n",
    "            # print(\"\\t\"+subwindow,end=\" \")\n",
    "            # print(subscore)\n",
    "            if(subscore>=4):\n",
    "                for j in range(k,k+4):\n",
    "                    betaseq[j] = 1\n",
    "                k+=1\n",
    "            else:\n",
    "                rtextender = False\n",
    "        i+=1\n",
    "    else:\n",
    "        i+=1"
   ]
  },
  {
   "source": [
    "The sequence can potentially have alpha helix structures at the following spots -"
   ],
   "cell_type": "markdown",
   "metadata": {}
  },
  {
   "cell_type": "code",
   "execution_count": 6,
   "metadata": {},
   "outputs": [
    {
     "output_type": "stream",
     "name": "stdout",
     "text": [
      "VEGCMVQVTCGTTTLNGLWLDDTVYCPRHVICTAE YEDLLIRK HSFLVQAGNVQLRVIGHSMQNCLLRLKVDTS KYKFVRIQPGQTFSVLACYNG SGVYQCAMRP "
     ]
    }
   ],
   "source": [
    "#print(betaseq)\n",
    "# Here we simply print out the subsequences which can in fact be beta sequences\n",
    "string = \"\"\n",
    "for i in range(len_pseq):\n",
    "    if betaseq[i] == 1:\n",
    "        string += pseq[i]\n",
    "    else:\n",
    "        if string!=\"\":\n",
    "            print(string,end=\" \")\n",
    "        string = \"\""
   ]
  },
  {
   "source": [
    "We will now check for overlap cases between alpha and beta, and then generate the final structure sequence - "
   ],
   "cell_type": "markdown",
   "metadata": {}
  },
  {
   "cell_type": "code",
   "execution_count": 7,
   "metadata": {},
   "outputs": [
    {
     "output_type": "stream",
     "name": "stdout",
     "text": [
      "[3, 1, 1, 1, 1, 1, 1, 1, 1, 1, 1, 1, 2, 2, 2, 2, 2, 2, 2, 2, 2, 2, 2, 2, 2, 2, 1, 1, 1, 1, 1, 1, 1, 1, 1, 2, 2, 2, 2, 1, 1, 1, 1, 1, 1, 1, 1, 1, 1, 1, 1, 3, 3, 1, 1, 1, 1, 1, 1, 1, 1, 1, 1, 2, 2, 2, 2, 2, 2, 2, 2, 2, 2, 2, 2, 2, 2, 2, 2, 2, 2, 2, 2, 2, 2, 2, 2, 2, 2, 2, 2, 2, 2, 2, 3, 3, 3, 3, 1, 2, 2, 2, 2, 2, 2, 2, 2, 2, 2, 2, 2, 2, 2, 2, 2, 2, 2, 2, 2, 2, 3, 3, 2, 2, 2, 2, 2, 2, 2, 2, 2, 2, 3, 3, 3, 1, 1, 1, 1, 1, 1, 3, 3, 3, 3, 3, 3, 3, 3, 3]\n"
     ]
    }
   ],
   "source": [
    "finalseq = [0] * len_pseq #Here 1 = Alpha 2 = Beta 3 = Turn\n",
    "conflict = [0] * len_pseq #The conflict region demarcates the area where both alpha and beta have possible forming structures\n",
    "for i in range(len_pseq):\n",
    "    conflict[i] = alphaseq[i]*betaseq[i]\n",
    "#print(conflict)\n",
    "i = 0\n",
    "#In this loop, we resolve the conflict by finding the common regions where the conflict had arisen, and finding the total propensities by adding alpha and beta values (stored in alphascore and betascore)\n",
    "while(i<len_pseq):\n",
    "    if conflict[i] == 1:\n",
    "        j = i+1\n",
    "        while(conflict[j] == 1):\n",
    "            j+=1\n",
    "        alphascore = 0\n",
    "        betascore = 0\n",
    "        for k in range(i,j):\n",
    "            #Here we will calculate the average propensity for both along the conflict region and assign the higher one to finalseq\n",
    "            alphascore += parameters[pseq[k]][0]\n",
    "            betascore += parameters[pseq[k]][1]\n",
    "        #In case alphascore is higher than betascore, we store alpha values in the final sequence, otherwise we store beta\n",
    "        if(alphascore>betascore):\n",
    "            for k in range(i,j):\n",
    "                finalseq[k] = 1\n",
    "        else:\n",
    "            for k in range(i,j):\n",
    "                finalseq[k] = 2\n",
    "        i = j+1\n",
    "    else:\n",
    "        i+=1\n",
    "#print(finalseq)\n",
    "i = 0\n",
    "#All non alpha and beta values in the final sequence are made to hold T Turn values \n",
    "while(i<len_pseq):\n",
    "    if finalseq[i] != 0:\n",
    "        i+=1\n",
    "    else:\n",
    "        if alphaseq[i] == 1:\n",
    "            finalseq[i] = 1\n",
    "        elif betaseq[i] == 1:\n",
    "            finalseq[i] = 2\n",
    "        else:\n",
    "            finalseq[i] = 3\n",
    "print(finalseq)"
   ]
  },
  {
   "source": [
    "Now we will just print out the final series with their protein secondary structure characters written below, in a manner similar to STRIDE's - "
   ],
   "cell_type": "markdown",
   "metadata": {}
  },
  {
   "cell_type": "code",
   "execution_count": 8,
   "metadata": {},
   "outputs": [
    {
     "output_type": "stream",
     "name": "stdout",
     "text": [
      "SGFRKMAFPSGKVEGCMVQVTCGTTTLNGLWLDDTVYCPRHVICTAEDMLNPNYEDLLIRKSNHSFLVQAGNVQLRVIGHSMQNCLLRLKVDTSNPKTPKYKFVRIQPGQTFSVLACYNGSPSGVYQCAMRPNHTIKGSFLNGSCGSVGF\nTHHHHHHHHHHHSSSSSSSSSSSSSSHHHHHHHHHSSSSHHHHHHHHHHHHTTHHHHHHHHHHSSSSSSSSSSSSSSSSSSSSSSSSSSSSSSSTTTTHSSSSSSSSSSSSSSSSSSSSSTTSSSSSSSSSSTTTHHHHHHTTTTTTTTT\n\n\n\n\t\t\t\t\t\t\t\t  FINAL OUTPUT-\n\n\n\t\t\t\t\t1\tSGFRKMAFPSGKVEGCMVQVTCGTTTLNGLWLDDTVYCPRHVICTAEDML\t50\n\t\t\t\t\t\tTHHHHHHHHHHHSSSSSSSSSSSSSSHHHHHHHHHSSSSHHHHHHHHHHH\n\n\t\t\t\t\t51\tNPNYEDLLIRKSNHSFLVQAGNVQLRVIGHSMQNCLLRLKVDTSNPKTPK\t100\n\t\t\t\t\t\tHTTHHHHHHHHHHSSSSSSSSSSSSSSSSSSSSSSSSSSSSSSSTTTTHS\n\n\t\t\t\t\t101\tYKFVRIQPGQTFSVLACYNGSPSGVYQCAMRPNHTIKGSFLNGSCGSVGF\t150\n\t\t\t\t\t\tSSSSSSSSSSSSSSSSSSSSTTSSSSSSSSSSTTTHHHHHHTTTTTTTTT\n\n"
     ]
    }
   ],
   "source": [
    "print(pseq)\n",
    "j = 0\n",
    "final = \"\"\n",
    "for i in range(len_pseq):\n",
    "    if finalseq[i] == 1:\n",
    "        final = final + \"H\"\n",
    "        print('H',end=\"\")\n",
    "    elif finalseq[i] == 2:\n",
    "        final = final + \"S\"\n",
    "        print('S',end=\"\")\n",
    "    else:\n",
    "        final = final + \"T\"\n",
    "        print('T',end=\"\")\n",
    "    j+=1\n",
    "\n",
    "print(\"\\n\\n\\n\")\n",
    "print(\"\\t\\t\\t\\t\\t\\t\\t\\t  FINAL OUTPUT-\\n\\n\")\n",
    "mod = 0 \n",
    "while(mod*50<len_pseq):\n",
    "    print(\"\\t\\t\\t\\t\\t\",end=\"\")\n",
    "    print(mod*50+1, end=\"\\t\")\n",
    "    print(pseq[mod*50:(mod+1)*50],end=\"\\t\")\n",
    "    print((mod+1)*50)\n",
    "    print(\"\\t\\t\\t\\t\\t\\t\"+final[mod*50:(mod+1)*50])\n",
    "    print()\n",
    "    mod+=1"
   ]
  },
  {
   "source": [
    "**QUESTION 2**\n",
    "\n",
    "**Use the given protein.pdb file (structural coordinates for the protein from question 1) to predict the secondary structural elements using the STRIDE webserver.**\n",
    "\n",
    "a) **Display the output and compare with the result obtained in question 1. Mention the regions differing in both in terms of assigned secondary structure.**"
   ],
   "cell_type": "markdown",
   "metadata": {}
  },
  {
   "source": [
    "The STRIDE outputs in a plain text format in the following manner - \n",
    "\n",
    "<p align=\"center\">\n",
    "    <img src=\"ss1.png\" alt=\"STRIDE Screenshot 1\" height=\"260\"/>\n",
    "</p>\n",
    "\n",
    "<p align=\"center\">\n",
    "    <img src=\"ss2.png\" alt=\"STRIDE Screenshot 2\" height=\"500\"/>\n",
    "</p>\n",
    "\n",
    "<p align=\"center\">\n",
    "    <img src=\"ss3.png\" alt=\"STRIDE Screenshot 3\" height=\"500\"/>\n",
    "</p>"
   ],
   "cell_type": "markdown",
   "metadata": {}
  },
  {
   "source": [
    "The STRIDE server generates the following protein structure string, which is stored in the stride variable. We also replace the E character appearing in STRIDE with S, as we have used the S character to depict Strands in our case."
   ],
   "cell_type": "markdown",
   "metadata": {}
  },
  {
   "cell_type": "code",
   "execution_count": 9,
   "metadata": {},
   "outputs": [
    {
     "output_type": "stream",
     "name": "stdout",
     "text": [
      "STRIDE generated string: TTTTCCCCCHHHHHHCSSSSSSTTSSSSSSSSTTSSSSSGGGGCCHHHHHCCCHHHHHHHCCGGGCSSSSTTSSSCSSSSSSSTTSSSSSSCCCTTTTCCCCCCCCTTTSSSSSSSSSTTSSSSSSSSSSTTTTCBCCCCTTTTTTTSSC\n"
     ]
    }
   ],
   "source": [
    "stride = \"TTTTCCCCCHHHHHHCEEEEEETTEEEEEEEETTEEEEEGGGGCCHHHHHCCCHHHHHHHCCGGGCEEEETTEEECEEEEEEETTEEEEEECCCTTTTCCCCCCCCTTTEEEEEEEEETTEEEEEEEEEETTTTCBCCCCTTTTTTTEEC\".replace(\"E\",\"S\") #Since strand in our case has been depicted by S, whereas in STRIDE it has been depicted by E\n",
    "print(\"STRIDE generated string: \"+stride)"
   ]
  },
  {
   "cell_type": "code",
   "execution_count": 10,
   "metadata": {},
   "outputs": [],
   "source": [
    "# This is a script to find tha match % between two strings, along with the regions of difference between the two. \n",
    "def matchscript(a,b):\n",
    "    matchscore = 0\n",
    "    matchstring = \"\"\n",
    "    diff_regions_a = []\n",
    "    diff_regions_b = []\n",
    "    x = \"\"\n",
    "    y = \"\"\n",
    "    print(\"#\"+\"\\t\"+\"pseq\"+\"\\t\"+\"a\"+\"\\t\"+\"b\"+\"\\tstatus\")\n",
    "    print()\n",
    "    for i in range(len_pseq):\n",
    "        if a[i] == b[i]:\n",
    "            if(x!=\"\"):\n",
    "                diff_regions_a.append(x)\n",
    "                diff_regions_b.append(y)\n",
    "                x=\"\"\n",
    "                y=\"\"\n",
    "            matchstring+=\"|\"\n",
    "            matchscore+=1\n",
    "            print(str(i+1)+\"\\t\"+pseq[i]+\"\\t\"+a[i]+\"\\t\"+b[i]+\"\\tmatch\")\n",
    "        else:\n",
    "            x += a[i]\n",
    "            y += b[i]\n",
    "            matchstring+=\" \"\n",
    "            print(str(i+1)+\"\\t\"+pseq[i]+\"\\t\"+a[i]+\"\\t\"+b[i]+\"\\tmismatch\")  \n",
    "    print()\n",
    "    print((matchscore/len_pseq)*100)\n",
    "    print(pseq)\n",
    "    print(a)\n",
    "    print(matchstring)\n",
    "    print(b)\n",
    "    print(diff_regions_a)\n",
    "    print(diff_regions_b)"
   ]
  },
  {
   "cell_type": "code",
   "execution_count": 11,
   "metadata": {},
   "outputs": [
    {
     "output_type": "stream",
     "name": "stdout",
     "text": [
      "#\tpseq\ta\tb\tstatus\n\n1\tS\tT\tT\tmatch\n2\tG\tH\tT\tmismatch\n3\tF\tH\tT\tmismatch\n4\tR\tH\tT\tmismatch\n5\tK\tH\tC\tmismatch\n6\tM\tH\tC\tmismatch\n7\tA\tH\tC\tmismatch\n8\tF\tH\tC\tmismatch\n9\tP\tH\tC\tmismatch\n10\tS\tH\tH\tmatch\n11\tG\tH\tH\tmatch\n12\tK\tH\tH\tmatch\n13\tV\tS\tH\tmismatch\n14\tE\tS\tH\tmismatch\n15\tG\tS\tH\tmismatch\n16\tC\tS\tC\tmismatch\n17\tM\tS\tS\tmatch\n18\tV\tS\tS\tmatch\n19\tQ\tS\tS\tmatch\n20\tV\tS\tS\tmatch\n21\tT\tS\tS\tmatch\n22\tC\tS\tS\tmatch\n23\tG\tS\tT\tmismatch\n24\tT\tS\tT\tmismatch\n25\tT\tS\tS\tmatch\n26\tT\tS\tS\tmatch\n27\tL\tH\tS\tmismatch\n28\tN\tH\tS\tmismatch\n29\tG\tH\tS\tmismatch\n30\tL\tH\tS\tmismatch\n31\tW\tH\tS\tmismatch\n32\tL\tH\tS\tmismatch\n33\tD\tH\tT\tmismatch\n34\tD\tH\tT\tmismatch\n35\tT\tH\tS\tmismatch\n36\tV\tS\tS\tmatch\n37\tY\tS\tS\tmatch\n38\tC\tS\tS\tmatch\n39\tP\tS\tS\tmatch\n40\tR\tH\tG\tmismatch\n41\tH\tH\tG\tmismatch\n42\tV\tH\tG\tmismatch\n43\tI\tH\tG\tmismatch\n44\tC\tH\tC\tmismatch\n45\tT\tH\tC\tmismatch\n46\tA\tH\tH\tmatch\n47\tE\tH\tH\tmatch\n48\tD\tH\tH\tmatch\n49\tM\tH\tH\tmatch\n50\tL\tH\tH\tmatch\n51\tN\tH\tC\tmismatch\n52\tP\tT\tC\tmismatch\n53\tN\tT\tC\tmismatch\n54\tY\tH\tH\tmatch\n55\tE\tH\tH\tmatch\n56\tD\tH\tH\tmatch\n57\tL\tH\tH\tmatch\n58\tL\tH\tH\tmatch\n59\tI\tH\tH\tmatch\n60\tR\tH\tH\tmatch\n61\tK\tH\tC\tmismatch\n62\tS\tH\tC\tmismatch\n63\tN\tH\tG\tmismatch\n64\tH\tS\tG\tmismatch\n65\tS\tS\tG\tmismatch\n66\tF\tS\tC\tmismatch\n67\tL\tS\tS\tmatch\n68\tV\tS\tS\tmatch\n69\tQ\tS\tS\tmatch\n70\tA\tS\tS\tmatch\n71\tG\tS\tT\tmismatch\n72\tN\tS\tT\tmismatch\n73\tV\tS\tS\tmatch\n74\tQ\tS\tS\tmatch\n75\tL\tS\tS\tmatch\n76\tR\tS\tC\tmismatch\n77\tV\tS\tS\tmatch\n78\tI\tS\tS\tmatch\n79\tG\tS\tS\tmatch\n80\tH\tS\tS\tmatch\n81\tS\tS\tS\tmatch\n82\tM\tS\tS\tmatch\n83\tQ\tS\tS\tmatch\n84\tN\tS\tT\tmismatch\n85\tC\tS\tT\tmismatch\n86\tL\tS\tS\tmatch\n87\tL\tS\tS\tmatch\n88\tR\tS\tS\tmatch\n89\tL\tS\tS\tmatch\n90\tK\tS\tS\tmatch\n91\tV\tS\tS\tmatch\n92\tD\tS\tC\tmismatch\n93\tT\tS\tC\tmismatch\n94\tS\tS\tC\tmismatch\n95\tN\tT\tT\tmatch\n96\tP\tT\tT\tmatch\n97\tK\tT\tT\tmatch\n98\tT\tT\tT\tmatch\n99\tP\tH\tC\tmismatch\n100\tK\tS\tC\tmismatch\n101\tY\tS\tC\tmismatch\n102\tK\tS\tC\tmismatch\n103\tF\tS\tC\tmismatch\n104\tV\tS\tC\tmismatch\n105\tR\tS\tC\tmismatch\n106\tI\tS\tC\tmismatch\n107\tQ\tS\tT\tmismatch\n108\tP\tS\tT\tmismatch\n109\tG\tS\tT\tmismatch\n110\tQ\tS\tS\tmatch\n111\tT\tS\tS\tmatch\n112\tF\tS\tS\tmatch\n113\tS\tS\tS\tmatch\n114\tV\tS\tS\tmatch\n115\tL\tS\tS\tmatch\n116\tA\tS\tS\tmatch\n117\tC\tS\tS\tmatch\n118\tY\tS\tS\tmatch\n119\tN\tS\tT\tmismatch\n120\tG\tS\tT\tmismatch\n121\tS\tT\tS\tmismatch\n122\tP\tT\tS\tmismatch\n123\tS\tS\tS\tmatch\n124\tG\tS\tS\tmatch\n125\tV\tS\tS\tmatch\n126\tY\tS\tS\tmatch\n127\tQ\tS\tS\tmatch\n128\tC\tS\tS\tmatch\n129\tA\tS\tS\tmatch\n130\tM\tS\tS\tmatch\n131\tR\tS\tT\tmismatch\n132\tP\tS\tT\tmismatch\n133\tN\tT\tT\tmatch\n134\tH\tT\tT\tmatch\n135\tT\tT\tC\tmismatch\n136\tI\tH\tB\tmismatch\n137\tK\tH\tC\tmismatch\n138\tG\tH\tC\tmismatch\n139\tS\tH\tC\tmismatch\n140\tF\tH\tC\tmismatch\n141\tL\tH\tT\tmismatch\n142\tN\tT\tT\tmatch\n143\tG\tT\tT\tmatch\n144\tS\tT\tT\tmatch\n145\tC\tT\tT\tmatch\n146\tG\tT\tT\tmatch\n147\tS\tT\tT\tmatch\n148\tV\tT\tS\tmismatch\n149\tG\tT\tS\tmismatch\n150\tF\tT\tC\tmismatch\n\n51.33333333333333\nSGFRKMAFPSGKVEGCMVQVTCGTTTLNGLWLDDTVYCPRHVICTAEDMLNPNYEDLLIRKSNHSFLVQAGNVQLRVIGHSMQNCLLRLKVDTSNPKTPKYKFVRIQPGQTFSVLACYNGSPSGVYQCAMRPNHTIKGSFLNGSCGSVGF\nTHHHHHHHHHHHSSSSSSSSSSSSSSHHHHHHHHHSSSSHHHHHHHHHHHHTTHHHHHHHHHHSSSSSSSSSSSSSSSSSSSSSSSSSSSSSSSTTTTHSSSSSSSSSSSSSSSSSSSSSTTSSSSSSSSSSTTTHHHHHHTTTTTTTTT\n|        |||    ||||||  ||         ||||      |||||   |||||||      ||||  ||| |||||||  ||||||   ||||           |||||||||    ||||||||  ||       ||||||   \nTTTTCCCCCHHHHHHCSSSSSSTTSSSSSSSSTTSSSSSGGGGCCHHHHHCCCHHHHHHHCCGGGCSSSSTTSSSCSSSSSSSTTSSSSSSCCCTTTTCCCCCCCCTTTSSSSSSSSSTTSSSSSSSSSSTTTTCBCCCCTTTTTTTSSC\n['HHHHHHHH', 'SSSS', 'SS', 'HHHHHHHHH', 'HHHHHH', 'HTT', 'HHHSSS', 'SS', 'S', 'SS', 'SSS', 'HSSSSSSSSSS', 'SSTT', 'SS', 'THHHHHH']\n['TTTCCCCC', 'HHHC', 'TT', 'SSSSSSTTS', 'GGGGCC', 'CCC', 'CCGGGC', 'TT', 'C', 'TT', 'CCC', 'CCCCCCCCTTT', 'TTSS', 'TT', 'CBCCCCT']\n"
     ]
    }
   ],
   "source": [
    "matchscript(final,stride)"
   ]
  },
  {
   "source": [
    "As observed above, there is a 51.33% between the STRIDE generated protein structure and the one generated by our modified Chou Fasman method. \n",
    "\n",
    "As is observed, there are differences in our output and STRIDE's output. \n",
    "\n",
    "1. We only took H, S and T structures, whereas stride considers all structures, including Coils, 310 Helices, Bridges etc\n",
    "\n",
    "2. We marked all non H and S regions as Turns, which is a limitation of our algorithm."
   ],
   "cell_type": "markdown",
   "metadata": {}
  },
  {
   "source": [
    "**QUESTION 2**\n",
    "\n",
    "b) **Comment on the differences observed with proper reasoning.**"
   ],
   "cell_type": "markdown",
   "metadata": {}
  },
  {
   "source": [
    "1. Since we only make use of Alpha Helix and Beta Sheet propensities, we don't consider any other cases. Thus while our algorithm works fine for these cases in accordance to Chou Fasman, they don't consider any other possible protein structures. This leads to significant differences from the STRIDE generated protein structure string. \n",
    "\n",
    "2. We mark the non Alpha-Helix and Beta-Strand structures as Turns, which is not the case in STRIDE where they can also be 310 Helices, Pi Helices, Coils and Bridges.\n",
    "\n",
    "3. STRIDE's predictions makes use of other factors from the PDB sheet, such as atomic coordinate of a protein given by X-Ray crystallography and dihedral angle's properties based off of the DSSP (Dictionary of Protein Secondary Structure), as discussed in class. DSSP use dihaedral angles and their potentials alongside with H-Bonding properties, whereas Chou Fasman Method uses predetermined parameters i.e. propensities. \n",
    "\n",
    "4. The Chou Fasman method doesn't consider the effects of bulky Amino Acids or the elements on them that might lead to varying properties in different secondary protein structures, which are considered by STRIDE. This leads to direct Strand to Helix and Helix to Strand differences, as is observed in a couple of places in the above table. \n",
    "\n",
    "5. STRIDE, based off DSSP, has the prediction capabilities of structures other than basic helices and strands which it can also tell apart. \n",
    "\n",
    "6. Chou Fasman only has a prediction correctness probability of 55-60%.\n",
    "\n",
    "These factors lead to multiple differences in our output and STRIDE's output. \n"
   ],
   "cell_type": "markdown",
   "metadata": {}
  }
 ]
}